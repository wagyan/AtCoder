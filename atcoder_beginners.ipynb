{
  "nbformat": 4,
  "nbformat_minor": 0,
  "metadata": {
    "colab": {
      "name": "atcoder_beginners.ipynb",
      "version": "0.3.2",
      "provenance": [],
      "include_colab_link": true
    },
    "kernelspec": {
      "name": "python3",
      "display_name": "Python 3"
    }
  },
  "cells": [
    {
      "cell_type": "markdown",
      "metadata": {
        "id": "view-in-github",
        "colab_type": "text"
      },
      "source": [
        "[View in Colaboratory](https://colab.research.google.com/github/wagyan/AtCoder/blob/master/atcoder_beginners.ipynb)"
      ]
    },
    {
      "metadata": {
        "id": "jmjJt33eA-K2",
        "colab_type": "code",
        "colab": {}
      },
      "cell_type": "code",
      "source": [
        "a=int(input())\n",
        "b,c=map(int, input().split())\n",
        "s=str(input())\n",
        "print(\"{} {}\".format(a+b+c, s))"
      ],
      "execution_count": 0,
      "outputs": []
    },
    {
      "metadata": {
        "id": "Q3WZC6I6AuEk",
        "colab_type": "code",
        "colab": {}
      },
      "cell_type": "code",
      "source": [
        "a,b=map(int, input().split())\n",
        "if a&1==1 and b&1==1: \n",
        "  print(\"Odd\") \n",
        "else: \n",
        "  print(\"Even\")"
      ],
      "execution_count": 0,
      "outputs": []
    },
    {
      "metadata": {
        "id": "xrnlmaFBGMdA",
        "colab_type": "code",
        "colab": {}
      },
      "cell_type": "code",
      "source": [
        "a=input()\n",
        "print(sum(list(map(int, str(a)))))"
      ],
      "execution_count": 0,
      "outputs": []
    },
    {
      "metadata": {
        "id": "ioAJBFb3JPGf",
        "colab_type": "code",
        "colab": {}
      },
      "cell_type": "code",
      "source": [
        "def onewan(n):\n",
        "  c,d=0,n\n",
        "  while d&1==0:\n",
        "    d>>=1\n",
        "    c+=1\n",
        "  return c\n",
        "\n",
        "a=int(input())\n",
        "s=map(int, input().split())\n",
        "print(min(list(map(onewan,s))))"
      ],
      "execution_count": 0,
      "outputs": []
    },
    {
      "metadata": {
        "id": "zKnRslXHLKUQ",
        "colab_type": "code",
        "colab": {}
      },
      "cell_type": "code",
      "source": [
        "\n",
        "a=int(input())\n",
        "b=int(input())\n",
        "c=int(input())\n",
        "d=int(input())/50\n",
        "number_of_ways=0\n",
        "\n",
        "if a*10>=d:\n",
        "  a_max=int(d/10) \n",
        "else:\n",
        "  a_max=a\n",
        "\n",
        "for i in range(a_max+1):\n",
        "    a_rest=int(d-i*10)\n",
        "    if b*2>=a_rest:\n",
        "      b_max=int(a_rest/2)\n",
        "    else:\n",
        "      b_max=b     \n",
        "    for k in range(b_max+1):\n",
        "      if c>=a_rest-k*2:\n",
        "        number_of_ways += 1\n",
        "        \n",
        "print(number_of_ways)\n"
      ],
      "execution_count": 0,
      "outputs": []
    },
    {
      "metadata": {
        "id": "69hjka8QgZWM",
        "colab_type": "code",
        "colab": {}
      },
      "cell_type": "code",
      "source": [
        "def xika_souwa(n,x):\n",
        "  souwa=0\n",
        "  for i in range(n+1):\n",
        "    if x>=sum(list(map(int, str(i)))):\n",
        "      souwa+=i\n",
        "  return souwa\n",
        "\n",
        "n,a,b=map(int,input().split())\n",
        "print(xika_souwa(n,b)-xika_souwa(n,a-1))"
      ],
      "execution_count": 0,
      "outputs": []
    },
    {
      "metadata": {
        "id": "6GbKfQhjR2Jy",
        "colab_type": "code",
        "colab": {}
      },
      "cell_type": "code",
      "source": [
        "def quicksort(x):\n",
        "    if x==[]: return []\n",
        "    sho = quicksort([a for a in x[1:] if a <= x[0]])\n",
        "    dai = quicksort([a for a in x[1:] if a > x[0]])\n",
        "    return(sho+[x[0]]+dai)\n",
        "\n",
        "n=int(input())\n",
        "a=list(map(int,input().split()))\n",
        "b=quicksort(a)\n",
        "print(sum(b[n-1::-2])-sum(b[n-2::-2]))"
      ],
      "execution_count": 0,
      "outputs": []
    },
    {
      "metadata": {
        "id": "5VIZGsO3YoHR",
        "colab_type": "code",
        "colab": {}
      },
      "cell_type": "code",
      "source": [
        "n=int(input())\n",
        "d=[int(input()) for i in range(n)]\n",
        "print(len(list(set(d))))"
      ],
      "execution_count": 0,
      "outputs": []
    },
    {
      "metadata": {
        "id": "2fwQLG4gb15z",
        "colab_type": "code",
        "colab": {}
      },
      "cell_type": "code",
      "source": [
        "n,y=map(int,input().split())\n",
        "y=int(y/1000)\n",
        "\n",
        "a_min=int(y/10)\n",
        "b_min=int((y%10)/5)\n",
        "c_min=int(y-10*a_min-5*b_min)\n",
        "flag=False\n",
        "\n",
        "if (y < n) or (n < (a_min+b_min+c_min)):\n",
        "  a,b,c=-1,-1,-1\n",
        "elif y==n:\n",
        "  a,b,c=0,0,y\n",
        "elif a_min+b_min+c_min == n:\n",
        "  a,b,c=a_min,b_min,c_min\n",
        "else:\n",
        "  a,b,c=-1,-1,-1\n",
        "  for i in range(a_min+1):\n",
        "    if flag:\n",
        "      break\n",
        "    y_a_rest=int(y-i*10)\n",
        "    for k in range(int(y_a_rest/5)+1):\n",
        "      if 10*i+5*k+(n-i-k)==y:\n",
        "        a,b,c=i,k,n-i-k\n",
        "        flag=True\n",
        "        break\n",
        "\n",
        "print(\"{} {} {}\".format(a,b,c))"
      ],
      "execution_count": 0,
      "outputs": []
    },
    {
      "metadata": {
        "id": "XGxtIdQKyTxi",
        "colab_type": "code",
        "colab": {}
      },
      "cell_type": "code",
      "source": [
        "s=str(input())\n",
        "\n",
        "while True:\n",
        "  if len(s)==0:\n",
        "    print(\"YES\")\n",
        "    break\n",
        "  elif s[-5:]==\"dream\" or s[-5:]==\"erase\":\n",
        "    s=s[:-5]\n",
        "  elif s[-6:]==\"eraser\":\n",
        "    s=s[:-6]\n",
        "  elif s[-7:]==\"dreamer\":\n",
        "    s=s[:-7]\n",
        "  else:\n",
        "    print(\"NO\")\n",
        "    break\n"
      ],
      "execution_count": 0,
      "outputs": []
    },
    {
      "metadata": {
        "id": "y7uwFLz-mgyY",
        "colab_type": "code",
        "colab": {}
      },
      "cell_type": "code",
      "source": [
        "def judge(dt,dx,dy):\n",
        "  z=abs(dx)+abs(dy)\n",
        "  if dt<z:\n",
        "    return False\n",
        "  elif int(dt-z)&1:\n",
        "    return False\n",
        "  else:\n",
        "    return True\n",
        "    \n",
        "n=int(input())\n",
        "txy1=[0,0,0]\n",
        "txy2=[0,0,0]\n",
        "flag=True\n",
        "for i in range(n):\n",
        "  txy2[0],txy2[1],txy2[2]=map(int, input().split())\n",
        "  if flag:\n",
        "    flag=judge(txy2[0]-txy1[0],txy2[1]-txy1[1],txy2[2]-txy1[2])\n",
        "    txy1[0],txy1[1],txy1[2]=txy2[0],txy2[1],txy2[2]\n",
        "\n",
        "if flag:\n",
        "  print(\"Yes\")\n",
        "else:\n",
        "  print(\"No\")"
      ],
      "execution_count": 0,
      "outputs": []
    }
  ]
}